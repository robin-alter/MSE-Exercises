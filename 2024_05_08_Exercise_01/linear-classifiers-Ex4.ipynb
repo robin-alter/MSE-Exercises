{
 "cells": [
  {
   "cell_type": "markdown",
   "metadata": {},
   "source": [
    "Exercise 01:"
   ]
  },
  {
   "cell_type": "code",
   "execution_count": null,
   "metadata": {},
   "outputs": [],
   "source": [
    "from sklearn.datasets import load_digits\n",
    "import numpy as np\n",
    "import matplotlib.pyplot as plt\n",
    "from sklearn import model_selection\n",
    "\n",
    "digits = load_digits()\n",
    "data = digits[\"data\"]\n",
    "images = digits[\"images\"]\n",
    "target = digits[\"target\"]\n",
    "target_names = digits[\"target_names\"]\n",
    "\n",
    "print(np.shape(images[0]))\n",
    "#The images are of size 8x8\n",
    "\n",
    "#Interpolate using nearest neighbor\n",
    "img_nearest = images[3]\n",
    "assert 2 == len (img_nearest.shape)\n",
    "plt.figure()\n",
    "plt.gray()\n",
    "plt.imshow(img_nearest,interpolation = \"nearest\" ) # also try interpolation =\" bicubic \"\n",
    "plt.show()\n",
    "\n",
    "#Interpolate using bicubic\n",
    "img_bicubic = images[3]\n",
    "assert 2 == len (img_bicubic.shape)\n",
    "plt.figure()\n",
    "plt.gray()\n",
    "plt.imshow(img_bicubic,interpolation = \"bicubic\" ) # also try interpolation =\" bicubic \"\n",
    "plt.show()\n",
    "\n",
    "x_3and9 = []\n",
    "y_3and9 = []\n",
    "image_3and9 = []\n",
    "for i in range(len(data)):\n",
    "    if target[i] == 3 or target[i] == 9:\n",
    "        x_3and9.append(data[i])\n",
    "        y_3and9.append(target[i]) \n",
    "        image_3and9.append(images[i])\n",
    "\n",
    "X_train, X_test, y_train, y_test =\\\n",
    "    model_selection.train_test_split(x_3and9, y_3and9, test_size = 0.4, random_state = 0)\n"
   ]
  },
  {
   "cell_type": "markdown",
   "metadata": {},
   "source": [
    "Exercise 04:"
   ]
  },
  {
   "cell_type": "code",
   "execution_count": null,
   "metadata": {},
   "outputs": [],
   "source": []
  }
 ],
 "metadata": {
  "kernelspec": {
   "display_name": "Python 3",
   "language": "python",
   "name": "python3"
  },
  "language_info": {
   "codemirror_mode": {
    "name": "ipython",
    "version": 3
   },
   "file_extension": ".py",
   "mimetype": "text/x-python",
   "name": "python",
   "nbconvert_exporter": "python",
   "pygments_lexer": "ipython3",
   "version": "3.11.9"
  }
 },
 "nbformat": 4,
 "nbformat_minor": 2
}
