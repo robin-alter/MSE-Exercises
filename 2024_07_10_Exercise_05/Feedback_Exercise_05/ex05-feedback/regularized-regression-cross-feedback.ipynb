{
 "cells": [
  {
   "cell_type": "markdown",
   "id": "1eb88090",
   "metadata": {},
   "source": [
    "<div style=\"color: green; font-weight:bold\">\n",
    "Your solution is pretty much equal to the sample solution.\n",
    "</div>"
   ]
  },
  {
   "cell_type": "markdown",
   "id": "2aa74f04-91dd-4574-a819-77ed556e77be",
   "metadata": {},
   "source": [
    "# Ex5 Regularized Regression\n",
    "\n",
    "## 1 Bias and variance of ridge regression\n",
    "\n",
    "$$\n",
    "\\hat\\beta=\\arg\\min_\\beta(y-X\\beta)^T(y-X\\beta)+\\tau\\beta^T\\beta\n",
    "$$\n",
    "\n",
    "### Minimizing the objective\n",
    "\n",
    "Expanding the objective we get\n",
    "$$\n",
    "\\begin{aligned}\n",
    "& (y-X\\beta)^T(y-X\\beta)+\\tau\\beta^T\\beta\\\\\n",
    "& = y^Ty-\\beta^TX^Ty-y^TX\\beta-\\beta^TX^T\\beta X+\\tau\\beta^T\\beta:=\\mathcal L\n",
    "\\end{aligned}\n",
    "$$\n",
    "Setting F.O.C. to zero\n",
    "$$\n",
    "\\frac{\\part\\mathcal L}{\\part\\beta}=0-2X^Ty+2X^TX\\beta+2\\tau\\beta\n",
    "$$\n",
    "gets us the solution\n",
    "$$\n",
    "\\begin{aligned}\n",
    "\\hat\\beta&=(X^T X + \\tau \\mathbb{I}_D)^{-1} X^T y\\\\\n",
    "&=\\boxed{S_\\tau^{-1}X^Ty}\n",
    "\\end{aligned}\n",
    "$$\n",
    "where $S_\\tau=X^T X + \\tau \\mathbb{I}_D$. We define also $S=S_{\\tau=0}=X^TX$. Both $S_\\tau,S$ clearly symmetric (property to be used later).\n",
    "\n",
    "### Mean $\\mathbb E(\\hat\\beta_\\tau)$\n",
    "\n",
    "Plug in $y=X\\beta^*+\\epsilon$, with $\\epsilon\\sim\\mathcal N(0,\\sigma^2)$\n",
    "$$\n",
    "\\mathbb E(\\hat\\beta_\\tau)=\\mathbb E\\left[S_\\tau^{-1}X^T(X\\beta^*+\\epsilon)\\right]\\\\\n",
    "=\\mathbb E\\left[S_\\tau^{-1}\\underbrace{X^TX}_{S}\\beta^*\\right]+\\mathbb S_\\tau^{-1}X^T \\cancel{E[\\epsilon]}^0\\\\\n",
    "=\\boxed{S_\\tau^{-1}S\\beta^*}\n",
    "$$\n",
    "\n",
    "### Variance $\\text{Cov}[\\hat\\beta_\\tau]$\n",
    "\n",
    "First, we rewrite $\\hat\\beta_\\tau$ in terms of $\\hat\\beta=\\hat\\beta_{\\tau=0}$ from OLS estimate (so that we can later reuse the result $\\text{Cov}[\\hat\\beta_{\\tau=0}]=S^{-1}\\sigma^2$ as derived in class) :\n",
    "$$\n",
    "\\begin{aligned}\n",
    "\\hat\\beta_\\tau&=S_\\tau^{-1}X^Ty\\\\\n",
    "&=S_\\tau^{-1}X^T(XX^{-1})(XX^{-1})^Ty\\\\\n",
    "&=S_\\tau^{-1}X^TXX^{-1}(X^T)^{-1}X^Ty\\\\\n",
    "&=S_\\tau^{-1}X^TX(X^TX)^{-1}X^Ty\\\\\n",
    "&=S_\\tau^{-1}S\\underbrace{(X^TX)^{-1}X^Ty}_{\\hat\\beta}\\\\\n",
    "&=S_\\tau^{-1}S\\hat\\beta\n",
    "\\end{aligned}\n",
    "$$\n",
    "thus\n",
    "$$\n",
    "\\text{Cov}[\\hat\\beta_\\tau]=\\text{Cov}\\left[S_\\tau^{-1}S\\hat\\beta\\right]\\\\\n",
    "=S_\\tau^{-1}S\\text{Cov}\\left[\\hat\\beta\\right](S_\\tau^{-1}S)^T\\\\\n",
    "=S_\\tau^{-1}SS^{-1}\\sigma^2(S_\\tau^{-1}S)^T\\\\\n",
    "=S_\\tau^{-1}\\sigma^2S^T(S_\\tau^{-1})^T\\\\\n",
    "=\\boxed{S_\\tau^{-1}SS_\\tau^{-1}\\sigma^2}\n",
    "$$\n",
    "where we used the symmetricity of both scatter matrices in the last step."
   ]
  },
  {
   "cell_type": "markdown",
   "id": "5e422f28",
   "metadata": {},
   "source": [
    "<div style=\"color: green; font-weight:bold\">\n",
    "Here your solution also pretty closely follows the sample solution\n",
    "</div>"
   ]
  },
  {
   "cell_type": "markdown",
   "id": "f9a308a4-25c1-4cec-8863-0097b28590ef",
   "metadata": {},
   "source": [
    "## 2 LDA-Derivation from the Least Squares Error (16 points)"
   ]
  },
  {
   "cell_type": "markdown",
   "id": "f4939faf-a0f4-4501-a2f4-5cc585e0fafa",
   "metadata": {},
   "source": [
    "\n",
    "\n",
    "To derive the expression for $$\\hat{\\beta}_{\\text{OLS}}$$, we set the derivative of the loss with respect to $$\\beta\\ $$ to zero:\n",
    "$$\n",
    "\\frac{\\partial}{\\partial \\beta} \\sum_{i=1}^N (y^*_i - X_i \\cdot \\beta)^2 = 0\n",
    "$$\n",
    "\n",
    "Expanding and differentiating:\n",
    "$$\n",
    "\\frac{\\partial}{\\partial \\beta} \\sum_{i=1}^N (y^*_i - X_i \\cdot \\beta)^2 = -2 \\sum_{i=1}^N X_i^T (y^*_i - X_i \\cdot \\beta) = 0\n",
    "$$\n",
    "\n",
    "Rearranging terms:\n",
    "$$\n",
    "\\sum_{i=1}^N X_i^T y^*_i = \\sum_{i=1}^N X_i^T X_i \\beta\n",
    "$$\n",
    "\n",
    "Thus:\n",
    "$$\n",
    "X^T y = X^T X \\beta\n",
    "$$\n",
    "\n",
    "Here, $$ X^T y\\ $$ is the sum of the input vectors weighted by their class labels, which can be written as:\n",
    "$$\n",
    "X^T y = \\frac{N}{2} (\\mu_1 - \\mu_{-1})\n",
    "$$\n",
    "\n",
    "Therefore, we have:\n",
    "$$\n",
    "\\Sigma \\beta = \\frac{1}{2} (\\mu_1 - \\mu_{-1})\n",
    "$$\n",
    "\n",
    "We can rewrite this as:\n",
    "$$\n",
    "\\Sigma \\beta + \\frac{1}{4} (\\mu_1 - \\mu_{-1})^T (\\mu_1 - \\mu_{-1}) \\beta = \\frac{1}{2} (\\mu_1 - \\mu_{-1})^T\n",
    "$$\n",
    "\n",
    "Recognizing that $$(\\mu_1 - \\mu_{-1}) \\cdot \\beta = \\tau'$$ for some scalar $$\\tau'$$, we bring the second term on the left-hand side to the right-hand side and obtain:\n",
    "$$\n",
    "\\Sigma \\beta = \\left( \\frac{1}{2} - \\frac{\\tau'}{4} \\right) (\\mu_1 - \\mu_{-1})^T\n",
    "$$\n",
    "\n",
    "Thus, we have:\n",
    "$$\n",
    "\\hat{\\beta}_{\\text{OLS}} = \\tau \\Sigma^{-1} (\\mu_1 - \\mu_{-1})^T\n",
    "$$\n",
    "with $$\\tau = \\frac{1}{2} - \\frac{\\tau'}{4}$$. \n",
    "\n",
    "\n"
   ]
  },
  {
   "cell_type": "markdown",
   "id": "32f0acd7-472b-4036-b888-cbfce5763945",
   "metadata": {},
   "source": [
    "## 3 Automatic feature selection for LDA as regression"
   ]
  },
  {
   "cell_type": "markdown",
   "id": "f87773b0",
   "metadata": {},
   "source": [
    "<div style=\"color: green; font-weight:bold\">\n",
    "Your implementation differs somewhat from the sample solution, however it logically does the same thing. The sample solution does look a bit more comprehensible and elegant\n",
    "</div>"
   ]
  },
  {
   "cell_type": "markdown",
   "id": "b85e56a0-f819-46be-aca7-42c0f745422d",
   "metadata": {},
   "source": [
    "### 3.1 Implement Orthogonal Matching Pursuit (8 points)"
   ]
  },
  {
   "cell_type": "code",
   "execution_count": 3,
   "id": "5e4c41c6-83a5-4703-b220-819dc5a72dbc",
   "metadata": {},
   "outputs": [],
   "source": [
    "import numpy as np\n",
    "import scipy as sci\n",
    "from scipy import linalg as linalg\n",
    "from sklearn.datasets import load_digits\n",
    "from sklearn import model_selection\n",
    "from matplotlib import pyplot as plt"
   ]
  },
  {
   "cell_type": "code",
   "execution_count": 9,
   "id": "4d526978-b131-4485-be4f-8b6673ebf5e3",
   "metadata": {},
   "outputs": [],
   "source": [
    "def omp_regression(X, y, T):\n",
    "    r = y\n",
    "    D = len(X[0])\n",
    "    A = np.array([], dtype = int)\n",
    "    B = np.arange(D)\n",
    "    betas = []\n",
    "    for i in range(T):\n",
    "        x = X.copy()\n",
    "        x[:, A] = 0\n",
    "        j = np.argmax(np.abs(x.T @ r))\n",
    "        B = np.delete(B, np.where(B == j))\n",
    "        A = np.r_[A, j]\n",
    "        X_act = X[:, A]\n",
    "        beta = linalg.lstsq(X_act, y)[0]\n",
    "        r = y - X_act @ beta\n",
    "        to_in = np.zeros(D)\n",
    "        to_in[A] = beta\n",
    "        betas.append(to_in)\n",
    "        \n",
    "    return betas"
   ]
  },
  {
   "cell_type": "code",
   "execution_count": 11,
   "id": "4acfa636-2330-4f3c-84fd-d03611edd209",
   "metadata": {},
   "outputs": [
    {
     "name": "stdout",
     "output_type": "stream",
     "text": [
      "With 1 Pixels the error rate is 0.273972602739726\n",
      "With 2 Pixels the error rate is 0.18493150684931503\n",
      "With 3 Pixels the error rate is 0.15068493150684936\n",
      "With 4 Pixels the error rate is 0.08904109589041098\n",
      "With 5 Pixels the error rate is 0.06849315068493156\n",
      "With 6 Pixels the error rate is 0.0547945205479452\n",
      "With 7 Pixels the error rate is 0.03424657534246578\n",
      "With 8 Pixels the error rate is 0.04109589041095896\n",
      "With 9 Pixels the error rate is 0.0273972602739726\n",
      "With 10 Pixels the error rate is 0.04109589041095896\n",
      "With 11 Pixels the error rate is 0.03424657534246578\n",
      "With 12 Pixels the error rate is 0.0273972602739726\n",
      "With 13 Pixels the error rate is 0.0273972602739726\n",
      "With 14 Pixels the error rate is 0.0273972602739726\n",
      "With 15 Pixels the error rate is 0.020547945205479423\n",
      "With 16 Pixels the error rate is 0.020547945205479423\n",
      "With 17 Pixels the error rate is 0.020547945205479423\n",
      "With 18 Pixels the error rate is 0.020547945205479423\n",
      "With 19 Pixels the error rate is 0.013698630136986356\n",
      "With 20 Pixels the error rate is 0.013698630136986356\n",
      "With 21 Pixels the error rate is 0.013698630136986356\n",
      "With 22 Pixels the error rate is 0.013698630136986356\n",
      "With 23 Pixels the error rate is 0.013698630136986356\n",
      "With 24 Pixels the error rate is 0.013698630136986356\n",
      "With 25 Pixels the error rate is 0.013698630136986356\n",
      "With 26 Pixels the error rate is 0.020547945205479423\n",
      "With 27 Pixels the error rate is 0.020547945205479423\n",
      "With 28 Pixels the error rate is 0.020547945205479423\n",
      "With 29 Pixels the error rate is 0.020547945205479423\n",
      "With 30 Pixels the error rate is 0.020547945205479423\n"
     ]
    },
    {
     "data": {
      "image/png": "[encoded data removed]",
      "text/plain": [
       "<Figure size 640x480 with 1 Axes>"
      ]
     },
     "metadata": {},
     "output_type": "display_data"
    }
   ],
   "source": [
    "digits = load_digits()\n",
    "data = digits[\"data\"]\n",
    "target = digits[\"target\"]\n",
    "i = np.logical_or(target == 3, target == 9)\n",
    "x = data[i]\n",
    "y = target[i]\n",
    "y = (y == 3) * 2 - 1\n",
    "N = 50\n",
    "T = 64\n",
    "error = np.zeros(T)\n",
    "\n",
    "for n in range(N):\n",
    "\n",
    "    x_train, x_test, y_train, y_test = model_selection.train_test_split(x, y, test_size=0.4, random_state=n)\n",
    "\n",
    "    betas = omp_regression(x_train, y_train, T)\n",
    "\n",
    "    error_rates = np.array([])\n",
    "    for beta in betas:\n",
    "        pred = x_test @ beta\n",
    "        pred = (pred >= 0) * 2 - 1\n",
    "        error_rates = np.r_[error_rates, 1 - (pred == y_test).mean()]\n",
    "    error += error_rates\n",
    "\n",
    "error /= N\n",
    "\n",
    "plt.plot(np.arange(T) + 1, error_rates)\n",
    "plt.xlabel(\"Number of Pixels\")\n",
    "plt.ylabel(\"error rate\")\n",
    "for i in range(30):\n",
    "    print(\"With\", i + 1, \"Pixels the error rate is\", error_rates[i])"
   ]
  },
  {
   "cell_type": "markdown",
   "id": "3aeec3b8-a74d-4230-b0e0-49cc720db288",
   "metadata": {},
   "source": [
    "## 3.2 Classi\u001c\n",
    "cation with sparse LDA (8 points)"
   ]
  },
  {
   "cell_type": "markdown",
   "id": "1bcda583",
   "metadata": {},
   "source": [
    "<div style=\"color: green; font-weight:bold\">\n",
    "The core idea of your solution matches the sample solution. The sample solution however is way more elaborate and complete. The diagramms are better presented and deliver more information than in your solution.\n",
    "</div>"
   ]
  },
  {
   "cell_type": "code",
   "execution_count": 12,
   "id": "e7589479-ca95-4687-a712-ed6e95e37233",
   "metadata": {},
   "outputs": [
    {
     "name": "stdout",
     "output_type": "stream",
     "text": [
      "With 1 Pixels the error rate is 0.273972602739726\n",
      "With 2 Pixels the error rate is 0.18493150684931503\n",
      "With 3 Pixels the error rate is 0.15068493150684936\n",
      "With 4 Pixels the error rate is 0.08904109589041098\n",
      "With 5 Pixels the error rate is 0.06849315068493156\n",
      "With 6 Pixels the error rate is 0.0547945205479452\n",
      "With 7 Pixels the error rate is 0.03424657534246578\n",
      "With 8 Pixels the error rate is 0.04109589041095896\n",
      "With 9 Pixels the error rate is 0.0273972602739726\n",
      "With 10 Pixels the error rate is 0.04109589041095896\n",
      "With 11 Pixels the error rate is 0.03424657534246578\n",
      "With 12 Pixels the error rate is 0.0273972602739726\n",
      "With 13 Pixels the error rate is 0.0273972602739726\n",
      "With 14 Pixels the error rate is 0.0273972602739726\n",
      "With 15 Pixels the error rate is 0.020547945205479423\n",
      "With 16 Pixels the error rate is 0.020547945205479423\n",
      "With 17 Pixels the error rate is 0.020547945205479423\n",
      "With 18 Pixels the error rate is 0.020547945205479423\n",
      "With 19 Pixels the error rate is 0.013698630136986356\n",
      "With 20 Pixels the error rate is 0.013698630136986356\n",
      "With 21 Pixels the error rate is 0.013698630136986356\n",
      "With 22 Pixels the error rate is 0.013698630136986356\n",
      "With 23 Pixels the error rate is 0.013698630136986356\n",
      "With 24 Pixels the error rate is 0.013698630136986356\n",
      "With 25 Pixels the error rate is 0.013698630136986356\n",
      "With 26 Pixels the error rate is 0.020547945205479423\n",
      "With 27 Pixels the error rate is 0.020547945205479423\n",
      "With 28 Pixels the error rate is 0.020547945205479423\n",
      "With 29 Pixels the error rate is 0.020547945205479423\n",
      "With 30 Pixels the error rate is 0.020547945205479423\n"
     ]
    },
    {
     "data": {
      "image/png": "[encoded data removed]",
      "text/plain": [
       "<Figure size 640x480 with 1 Axes>"
      ]
     },
     "metadata": {},
     "output_type": "display_data"
    }
   ],
   "source": [
    "digits = load_digits()\n",
    "data = digits[\"data\"]\n",
    "target = digits[\"target\"]\n",
    "i = np.logical_or(target == 3, target == 9)\n",
    "x = data[i] / 16\n",
    "y = target[i]\n",
    "y = (y == 3) * 2 - 1\n",
    "N = 50\n",
    "T = 64\n",
    "error = np.zeros(T)\n",
    "\n",
    "for n in range(N):\n",
    "\n",
    "    x_train, x_test, y_train, y_test = model_selection.train_test_split(x, y, test_size=0.4, random_state=n)\n",
    "\n",
    "\n",
    "    betas = omp_regression(x_train, y_train, T)\n",
    "\n",
    "    pred = x_test @ beta\n",
    "    pred = (pred >= 0) * 2 - 1\n",
    "    (pred == y_test).mean()\n",
    "\n",
    "    error_rates = np.array([])\n",
    "    for beta in betas:\n",
    "        pred = x_test @ beta\n",
    "        pred = (pred >= 0) * 2 - 1\n",
    "        error_rates = np.r_[error_rates, 1 - (pred == y_test).mean()]\n",
    "    error += error_rates\n",
    "\n",
    "error /= N\n",
    "\n",
    "plt.plot(np.arange(T) + 1, error_rates)\n",
    "plt.xlabel(\"Number of Pixels\")\n",
    "plt.ylabel(\"error rate\")\n",
    "for i in range(30):\n",
    "    print(\"With\", i + 1, \"Pixels the error rate is\", error_rates[i])"
   ]
  },
  {
   "cell_type": "markdown",
   "id": "935ba696-b671-4fb5-aba7-adb3a61b64bc",
   "metadata": {},
   "source": [
    "<h3> With only 4 Pixels we get an error of only 3.4%, but normalizing the data doesn't really increase accuracy"
   ]
  },
  {
   "cell_type": "markdown",
   "id": "e902b883-efba-495a-954c-ea3714f293de",
   "metadata": {},
   "source": [
    "<h3> If a Value at a pixel is positive it is in favour of 3 and vice versa"
   ]
  },
  {
   "cell_type": "code",
   "execution_count": 13,
   "id": "311ef0a0-82f8-48d9-af3e-d2e8d6bb9a6e",
   "metadata": {},
   "outputs": [],
   "source": [
    "digits = load_digits()\n",
    "data = digits[\"data\"]\n",
    "target = digits[\"target\"]\n",
    "i = np.logical_or(target == 3, target == 9)\n",
    "x = data[i] / 16\n",
    "y = target[i]\n",
    "y = (y == 3) * 2 - 1\n",
    "x_train, x_test, y_train, y_test = model_selection.train_test_split(x, y, test_size=0.4, random_state=0)\n",
    "betas = omp_regression(x_train, y_train, T)"
   ]
  },
  {
   "cell_type": "code",
   "execution_count": 14,
   "id": "b251cd0d-69d5-4c7a-b748-dbb362eb310e",
   "metadata": {},
   "outputs": [
    {
     "name": "stdout",
     "output_type": "stream",
     "text": [
      "Pink shows favouring 9 pixel. The darker the color the stronger is the favour\n"
     ]
    },
    {
     "data": {
      "image/png": "[encoded data removed]",
      "text/plain": [
       "<Figure size 640x480 with 1 Axes>"
      ]
     },
     "metadata": {},
     "output_type": "display_data"
    }
   ],
   "source": [
    "im = betas[-1]\n",
    "im = im.reshape((8, 8))\n",
    "plt.imshow(im, cmap=\"PiYG\")\n",
    "print(\"Pink shows favouring 9 pixel. The darker the color the stronger is the favour\")"
   ]
  },
  {
   "cell_type": "markdown",
   "id": "5b6e8c58-c083-4d0a-8102-c1dbc8602acb",
   "metadata": {},
   "source": [
    "<h3> the order in which the pixels are added is"
   ]
  },
  {
   "cell_type": "code",
   "execution_count": null,
   "id": "acd118eb-a7d1-41f2-aab0-aabb83bd615f",
   "metadata": {},
   "outputs": [],
   "source": [
    "A"
   ]
  },
  {
   "cell_type": "markdown",
   "id": "e90489d9-682c-4138-baf6-c5647ab08884",
   "metadata": {},
   "source": [
    "array([18, 36, 26, 20, 29, 53,  5, 46, 21, 19, 28, 44, 27, 50, 37, 13, 30,\n",
    "       10, 58, 25,  9,  6, 45, 42, 12,  4, 17, 38, 35, 54, 22, 43, 51, 11,\n",
    "       34, 14, 62,  3,  2,  1, 55, 60, 59, 52, 49, 61, 57, 23, 63, 15, 41,\n",
    "       33,  7,  0,  0,  0,  0,  0,  0,  0,  0,  0,  0,  0])"
   ]
  },
  {
   "cell_type": "code",
   "execution_count": null,
   "id": "1df8ac2a-b8e5-4289-971e-a782acb84628",
   "metadata": {},
   "outputs": [],
   "source": []
  }
 ],
 "metadata": {
  "kernelspec": {
   "display_name": "Python 3 (ipykernel)",
   "language": "python",
   "name": "python3"
  },
  "language_info": {
   "codemirror_mode": {
    "name": "ipython",
    "version": 3
   },
   "file_extension": ".py",
   "mimetype": "text/x-python",
   "name": "python",
   "nbconvert_exporter": "python",
   "pygments_lexer": "ipython3",
   "version": "3.10.0"
  }
 },
 "nbformat": 4,
 "nbformat_minor": 5
}
