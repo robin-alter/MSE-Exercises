{
 "cells": [
  {
   "cell_type": "markdown",
   "id": "47b64cb9",
   "metadata": {},
   "source": [
    "Exercise 03"
   ]
  },
  {
   "cell_type": "code",
   "execution_count": 1,
   "id": "5fe57606",
   "metadata": {},
   "outputs": [],
   "source": [
    "from scipy.sparse import csc_matrix, coo_matrix\n",
    "from scipy.sparse.linalg import lsqr\n",
    "import matplotlib.pyplot as plt\n",
    "import numpy as np\n",
    "import math"
   ]
  },
  {
   "cell_type": "code",
   "execution_count": null,
   "id": "f27f905c",
   "metadata": {},
   "outputs": [],
   "source": [
    "def omp_regression(X, y , T):\n",
    "    # At the start no columns are active, and all columns count as inactive\n",
    "    active_columns = []\n",
    "    residuals = [y]\n",
    "    betas = []\n",
    "\n",
    "    for t in range(T):\n",
    "        # Calculate all the correlations for each column of X\n",
    "        correlations = [np.abs(np.dot(np.transpose(X)[:, j], residuals[t])) for j in X.shape()[1]]\n",
    "        # Add the highest calculation to the active columns\n",
    "        j = np.argmax(correlations)\n",
    "        active_columns.append(j)\n",
    "        active_X = X[:,active_columns]\n",
    "        # Solution to least squares problem by ridge regression as in the lecture\n",
    "        beta_rr = np.dot(np.linalg.inv(np.dot(np.transpose(active_X),active_X)),np.dot(np.transpose(active_X), y))\n",
    "        betas.append(beta_rr)\n",
    "        # update the residual\n",
    "        residuals.append(y - np.dot(active_X, betas[t]))\n",
    "    return betas\n"
   ]
  }
 ],
 "metadata": {
  "kernelspec": {
   "display_name": "Python 3",
   "language": "python",
   "name": "python3"
  },
  "language_info": {
   "codemirror_mode": {
    "name": "ipython",
    "version": 3
   },
   "file_extension": ".py",
   "mimetype": "text/x-python",
   "name": "python",
   "nbconvert_exporter": "python",
   "pygments_lexer": "ipython3",
   "version": "3.11.9"
  }
 },
 "nbformat": 4,
 "nbformat_minor": 5
}
